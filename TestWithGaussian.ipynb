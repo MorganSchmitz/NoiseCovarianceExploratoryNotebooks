{
 "cells": [
  {
   "cell_type": "markdown",
   "metadata": {},
   "source": [
    "This notebook just contains quick tests of our code snippets in a si;ple case with Gaussian correlated noise."
   ]
  },
  {
   "cell_type": "code",
   "execution_count": 1,
   "metadata": {},
   "outputs": [],
   "source": [
    "%matplotlib inline"
   ]
  },
  {
   "cell_type": "code",
   "execution_count": 2,
   "metadata": {},
   "outputs": [],
   "source": [
    "from lsst.daf.persistence import Butler\n",
    "import lsst.geom as geom\n",
    "import lsst.afw.math as afwMath\n",
    "import lsst.afw.image as afwImage\n",
    "import lsst.afw.geom as afwGeom\n",
    "import lsst.meas.algorithms as measAlg\n",
    "\n",
    "import numpy as np\n",
    "import matplotlib.pyplot as plt\n",
    "from matplotlib.colors import LogNorm\n",
    "\n",
    "# Morgadditions\n",
    "import time\n",
    "import sys\n",
    "sys.path.append('/project/mschmitz/repos/RaulModelPrototyping')\n",
    "import helperFuncs as hf\n",
    "import pandas as pd"
   ]
  },
  {
   "cell_type": "code",
   "execution_count": 3,
   "metadata": {},
   "outputs": [],
   "source": [
    "plt.rcParams['figure.figsize'] = 8,8\n",
    "cmap = 'PuOr' # colormap; diverging is best for looking at noise"
   ]
  },
  {
   "cell_type": "markdown",
   "metadata": {},
   "source": [
    "## Adapting Arun's local cov code\n",
    "Select how far to compute the covariance for (in both directions, for both axes):"
   ]
  },
  {
   "cell_type": "code",
   "execution_count": 4,
   "metadata": {},
   "outputs": [],
   "source": [
    "howFar = 3\n",
    "nbNoiseReals = 10000\n",
    "printCheckpoints = True"
   ]
  },
  {
   "cell_type": "markdown",
   "metadata": {},
   "source": [
    "Make dummy covariance matrix:"
   ]
  },
  {
   "cell_type": "code",
   "execution_count": 5,
   "metadata": {},
   "outputs": [],
   "source": [
    "dataSize = 5,5\n",
    "nbPix = np.prod(dataSize)\n",
    "mean = np.zeros(nbPix)"
   ]
  },
  {
   "cell_type": "code",
   "execution_count": 6,
   "metadata": {},
   "outputs": [
    {
     "data": {
      "text/plain": [
       "<matplotlib.colorbar.Colorbar at 0x7fdaf0f42890>"
      ]
     },
     "execution_count": 6,
     "metadata": {},
     "output_type": "execute_result"
    },
    {
     "data": {
      "image/png": "[encoded data removed]",
      "text/plain": [
       "<Figure size 576x576 with 2 Axes>"
      ]
     },
     "metadata": {
      "needs_background": "light"
     },
     "output_type": "display_data"
    }
   ],
   "source": [
    "truCov = np.eye(nbPix, nbPix)\n",
    "np.random.seed(121)\n",
    "for i in range(nbPix):\n",
    "    for j in range(i+1,nbPix):\n",
    "        truCov[i,j] = (np.random.rand(1) - .5)\n",
    "        truCov[j,i] = truCov[i,j]\n",
    "truCov = truCov.T.dot(truCov)\n",
    "# I do want some uncorrelated entries:\n",
    "truCov[-1,:-5] = 0\n",
    "truCov[:-5,-1] = 0\n",
    "# unit variance\n",
    "truCov /= np.max(truCov)\n",
    "\n",
    "for j in range(nbPix):\n",
    "    truCov[j,j] = 1\n",
    "\n",
    "plt.imshow(truCov, cmap=cmap, interpolation='Nearest', vmin=-1, vmax=1)\n",
    "plt.colorbar()"
   ]
  },
  {
   "cell_type": "code",
   "execution_count": 7,
   "metadata": {},
   "outputs": [
    {
     "name": "stdout",
     "output_type": "stream",
     "text": [
      "(5, 5, 7, 7) 1225\n"
     ]
    }
   ],
   "source": [
    "covariances = np.zeros((*(dataSize),\n",
    "                    2*howFar+1, 2*howFar+1)) \n",
    "print(covariances.shape, covariances.size)"
   ]
  },
  {
   "cell_type": "markdown",
   "metadata": {},
   "source": [
    "Make nosie realizations and compute covariance estimator on each:"
   ]
  },
  {
   "cell_type": "code",
   "execution_count": 8,
   "metadata": {},
   "outputs": [
    {
     "name": "stdout",
     "output_type": "stream",
     "text": [
      " > Noise realization 0 generated in 0.0007195472717285156s\n",
      " > Cross terms computed in 0.001476287841796875s\n",
      " > Noise realization 500 generated in 0.0004246234893798828s\n",
      " > Cross terms computed in 0.0014433860778808594s\n",
      " > Noise realization 1000 generated in 0.00040411949157714844s\n",
      " > Cross terms computed in 0.001466989517211914s\n",
      " > Noise realization 1500 generated in 0.0004036426544189453s\n",
      " > Cross terms computed in 0.001434326171875s\n",
      " > Noise realization 2000 generated in 0.00040650367736816406s\n",
      " > Cross terms computed in 0.0014178752899169922s\n",
      " > Noise realization 2500 generated in 0.0004303455352783203s\n",
      " > Cross terms computed in 0.0014009475708007812s\n",
      " > Noise realization 3000 generated in 0.0004742145538330078s\n",
      " > Cross terms computed in 0.0015568733215332031s\n",
      " > Noise realization 3500 generated in 0.00040602684020996094s\n",
      " > Cross terms computed in 0.0014119148254394531s\n",
      " > Noise realization 4000 generated in 0.0004649162292480469s\n",
      " > Cross terms computed in 0.0015225410461425781s\n",
      " > Noise realization 4500 generated in 0.0004050731658935547s\n",
      " > Cross terms computed in 0.003044605255126953s\n",
      " > Noise realization 5000 generated in 0.00040602684020996094s\n",
      " > Cross terms computed in 0.0014095306396484375s\n",
      " > Noise realization 5500 generated in 0.0004277229309082031s\n",
      " > Cross terms computed in 0.0014951229095458984s\n",
      " > Noise realization 6000 generated in 0.0004062652587890625s\n",
      " > Cross terms computed in 0.0015759468078613281s\n",
      " > Noise realization 6500 generated in 0.0004048347473144531s\n",
      " > Cross terms computed in 0.0014445781707763672s\n",
      " > Noise realization 7000 generated in 0.00046181678771972656s\n",
      " > Cross terms computed in 0.001489400863647461s\n",
      " > Noise realization 7500 generated in 0.0004050731658935547s\n",
      " > Cross terms computed in 0.0014145374298095703s\n",
      " > Noise realization 8000 generated in 0.00040459632873535156s\n",
      " > Cross terms computed in 0.0014297962188720703s\n",
      " > Noise realization 8500 generated in 0.0004150867462158203s\n",
      " > Cross terms computed in 0.0014147758483886719s\n",
      " > Noise realization 9000 generated in 0.0004134178161621094s\n",
      " > Cross terms computed in 0.0014371871948242188s\n",
      " > Noise realization 9500 generated in 0.0004055500030517578s\n",
      " > Cross terms computed in 0.0014088153839111328s\n",
      "All done in 16.100027799606323s\n"
     ]
    }
   ],
   "source": [
    "start = time.time()\n",
    "for j in range(nbNoiseReals):\n",
    "    startReal = time.time()\n",
    "    noiseReal = np.random.multivariate_normal(mean, truCov, 1)[0].reshape(dataSize)\n",
    "    startCovComp = time.time()\n",
    "    if printCheckpoints and not j%500:\n",
    "        print(' > Noise realization {} generated in {}s'.format(\n",
    "              j, startCovComp-startReal))\n",
    "    for xidx,dx in enumerate(range(-howFar,howFar+1)):\n",
    "        noiseShiftx = np.roll(noiseReal, shift=dx, axis=1)\n",
    "        for yidx,dy in enumerate(range(-howFar,howFar+1)):\n",
    "            noiseShiftxy = np.roll(noiseShiftx, shift=dy, axis=0)\n",
    "            covariances[:,:,xidx,yidx] += noiseShiftxy * noiseReal\n",
    "    if printCheckpoints and not j%500:\n",
    "        print(' > Cross terms computed in {}s'.format(\n",
    "              time.time()-startCovComp))\n",
    "covariances /= (nbNoiseReals - 1)\n",
    "print('All done in {}s'.format(time.time()-start))"
   ]
  },
  {
   "cell_type": "markdown",
   "metadata": {},
   "source": [
    "## Test our estimator\n",
    "For each shift considered, we can access the corresponding entry of the covariance for every single pixel from the last two axes.\n",
    "\n",
    "For instance, the diagonal corresponds to a shift of $0,0$, ie:"
   ]
  },
  {
   "cell_type": "code",
   "execution_count": 9,
   "metadata": {},
   "outputs": [
    {
     "data": {
      "text/plain": [
       "<matplotlib.image.AxesImage at 0x7fdaf0e18c50>"
      ]
     },
     "execution_count": 9,
     "metadata": {},
     "output_type": "execute_result"
    },
    {
     "data": {
      "image/png": "[encoded data removed]",
      "text/plain": [
       "<Figure size 576x576 with 1 Axes>"
      ]
     },
     "metadata": {
      "needs_background": "light"
     },
     "output_type": "display_data"
    }
   ],
   "source": [
    "plt.imshow(covariances[:,:,3,3], cmap=cmap, interpolation='Nearest', vmin=-1, vmax=1)"
   ]
  },
  {
   "cell_type": "markdown",
   "metadata": {},
   "source": [
    "Conversely, we can access the covariance entries with all considered pixels for one given pixel; for instance that last pixel with several 0 covariance counterparts:"
   ]
  },
  {
   "cell_type": "code",
   "execution_count": 10,
   "metadata": {},
   "outputs": [
    {
     "data": {
      "image/png": "[encoded data removed]",
      "text/plain": [
       "<Figure size 576x576 with 2 Axes>"
      ]
     },
     "metadata": {
      "needs_background": "light"
     },
     "output_type": "display_data"
    }
   ],
   "source": [
    "plt.imshow(covariances[-1,-1,:,:], cmap=cmap, interpolation='Nearest', vmin=-1, vmax=1)\n",
    "plt.colorbar()\n",
    "\n",
    "# show shifts in the labels\n",
    "plt.xticks(range(2*howFar + 1), range(-howFar,howFar+1))\n",
    "plt.yticks(range(2*howFar + 1), range(-howFar,howFar+1))\n",
    "\n",
    "plt.show()"
   ]
  },
  {
   "cell_type": "code",
   "execution_count": 11,
   "metadata": {},
   "outputs": [
    {
     "name": "stdout",
     "output_type": "stream",
     "text": [
      "[ 0.99857504 -0.13869636 -0.06391662  0.00206449]\n",
      "[ 1.00000000e+00 -1.45608499e-01 -5.98825052e-02  8.19815336e-04\n",
      " -1.93509663e-01]\n"
     ]
    }
   ],
   "source": [
    "print(covariances[-1,-1,3:,3])\n",
    "print(truCov[-1,-5:][::-1])"
   ]
  },
  {
   "cell_type": "markdown",
   "metadata": {},
   "source": [
    "## \"Bookkeeping kind of thing\"\n",
    "What Arun wanted to avoid but I don't know, I actually like to look at things that way (probably out of habit because of my OT cost matrices I suppose)"
   ]
  },
  {
   "cell_type": "markdown",
   "metadata": {},
   "source": [
    "Make a plot with the coordinates of each pixel as x-axis label of the covariance matrix, and y-axis deltas for a given pixel:"
   ]
  },
  {
   "cell_type": "code",
   "execution_count": 12,
   "metadata": {},
   "outputs": [
    {
     "name": "stdout",
     "output_type": "stream",
     "text": [
      "[['0,0' '0,1' '0,2' '0,3' '0,4']\n",
      " ['1,0' '1,1' '1,2' '1,3' '1,4']\n",
      " ['2,0' '2,1' '2,2' '2,3' '2,4']\n",
      " ['3,0' '3,1' '3,2' '3,3' '3,4']\n",
      " ['4,0' '4,1' '4,2' '4,3' '4,4']]\n"
     ]
    }
   ],
   "source": [
    "pixCoords = []\n",
    "for i in range(dataSize[0]):\n",
    "    rowCoords = []\n",
    "    for j in range(dataSize[0]):\n",
    "        rowCoords += [str(i)+\",\"+str(j)]\n",
    "    pixCoords += [rowCoords]\n",
    "pixCoords = np.array(pixCoords)\n",
    "print(pixCoords)\n",
    "pixCoords = pixCoords.flatten()"
   ]
  },
  {
   "cell_type": "markdown",
   "metadata": {},
   "source": [
    "Ok, pick the pixel we'll look at:"
   ]
  },
  {
   "cell_type": "code",
   "execution_count": 13,
   "metadata": {},
   "outputs": [],
   "source": [
    "pixIdx = 2,3 #4,4"
   ]
  },
  {
   "cell_type": "markdown",
   "metadata": {},
   "source": [
    "Mapping from covariance entry to \"shift\":"
   ]
  },
  {
   "cell_type": "code",
   "execution_count": 14,
   "metadata": {},
   "outputs": [
    {
     "name": "stdout",
     "output_type": "stream",
     "text": [
      "['2,3', '2,2', '2,1', '2,0', '2,-1', '1,3', '1,2', '1,1', '1,0', '1,-1', '0,3', '0,2', '0,1', '0,0', '0,-1', '-1,3', '-1,2', '-1,1', '-1,0', '-1,-1', '-2,3', '-2,2', '-2,1', '-2,0', '-2,-1']\n"
     ]
    }
   ],
   "source": [
    "ylabs = [str(pixIdx[0] - int(coord[0])) +\n",
    "         str(\",\") +\n",
    "         str(pixIdx[1] - int(coord[-1]))\n",
    "        for coord in pixCoords]\n",
    "print(ylabs)"
   ]
  },
  {
   "cell_type": "code",
   "execution_count": 15,
   "metadata": {},
   "outputs": [
    {
     "data": {
      "image/png": "[encoded data removed]",
      "text/plain": [
       "<Figure size 864x864 with 2 Axes>"
      ]
     },
     "metadata": {
      "needs_background": "light"
     },
     "output_type": "display_data"
    }
   ],
   "source": [
    "plt.rcParams['figure.figsize'] = 12,12\n",
    "plt.imshow(truCov, cmap=cmap, interpolation='Nearest', vmin=-1, vmax=1)\n",
    "plt.xticks(range(nbPix), pixCoords)\n",
    "plt.yticks(range(nbPix), ylabs)\n",
    "plt.title('Cov entry to shift, pixel {}'.format(pixIdx))\n",
    "plt.colorbar()\n",
    "\n",
    "plt.rcParams['figure.figsize'] = 8,8"
   ]
  },
  {
   "cell_type": "markdown",
   "metadata": {},
   "source": [
    "And same for those we get from our estimators:"
   ]
  },
  {
   "cell_type": "code",
   "execution_count": 16,
   "metadata": {},
   "outputs": [
    {
     "data": {
      "image/png": "[encoded data removed]",
      "text/plain": [
       "<Figure size 864x864 with 2 Axes>"
      ]
     },
     "metadata": {
      "needs_background": "light"
     },
     "output_type": "display_data"
    }
   ],
   "source": [
    "plt.rcParams['figure.figsize'] = 12,12\n",
    "plt.imshow(covariances[pixIdx[0],pixIdx[0],:,:], cmap=cmap, interpolation='Nearest', vmin=-1, vmax=1)\n",
    "\n",
    "plt.xticks(range(2*howFar + 1), range(-howFar,howFar+1))\n",
    "plt.yticks(range(2*howFar + 1), range(-howFar,howFar+1))\n",
    "plt.title('Partial covariances estimates, pixel {}'.format(pixIdx))\n",
    "plt.colorbar()\n",
    "\n",
    "plt.rcParams['figure.figsize'] = 8,8"
   ]
  },
  {
   "cell_type": "markdown",
   "metadata": {},
   "source": [
    "Annoying to match up, but if you do, they _do_ match.\n",
    "\n",
    "We need to figure out a way to make visualization less of a hassle, but at least the estimator does what it's supposed to do."
   ]
  }
 ],
 "metadata": {
  "kernelspec": {
   "display_name": "Python 3",
   "language": "python",
   "name": "python3"
  },
  "language_info": {
   "codemirror_mode": {
    "name": "ipython",
    "version": 3
   },
   "file_extension": ".py",
   "mimetype": "text/x-python",
   "name": "python",
   "nbconvert_exporter": "python",
   "pygments_lexer": "ipython3",
   "version": "3.7.6"
  }
 },
 "nbformat": 4,
 "nbformat_minor": 4
}
